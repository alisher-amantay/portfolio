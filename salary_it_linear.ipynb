{
 "cells": [
  {
   "cell_type": "code",
   "execution_count": 1,
   "metadata": {},
   "outputs": [],
   "source": [
    "import pandas as pd\n",
    "import matplotlib.pyplot as plt\n",
    "import numpy as np\n",
    "import xgboost as xgb\n",
    "from sklearn.metrics import mean_squared_error\n",
    "data = pd.read_csv('salarykz/salary_train.csv', index_col=\"Id\")"
   ]
  },
  {
   "cell_type": "code",
   "execution_count": 2,
   "metadata": {},
   "outputs": [
    {
     "data": {
      "text/html": [
       "<div>\n",
       "<style scoped>\n",
       "    .dataframe tbody tr th:only-of-type {\n",
       "        vertical-align: middle;\n",
       "    }\n",
       "\n",
       "    .dataframe tbody tr th {\n",
       "        vertical-align: top;\n",
       "    }\n",
       "\n",
       "    .dataframe thead th {\n",
       "        text-align: right;\n",
       "    }\n",
       "</style>\n",
       "<table border=\"1\" class=\"dataframe\">\n",
       "  <thead>\n",
       "    <tr style=\"text-align: right;\">\n",
       "      <th></th>\n",
       "      <th>algebra</th>\n",
       "      <th>programming</th>\n",
       "      <th>data science</th>\n",
       "      <th>robotics</th>\n",
       "      <th>economics</th>\n",
       "      <th>job</th>\n",
       "      <th>salary</th>\n",
       "    </tr>\n",
       "    <tr>\n",
       "      <th>Id</th>\n",
       "      <th></th>\n",
       "      <th></th>\n",
       "      <th></th>\n",
       "      <th></th>\n",
       "      <th></th>\n",
       "      <th></th>\n",
       "      <th></th>\n",
       "    </tr>\n",
       "  </thead>\n",
       "  <tbody>\n",
       "    <tr>\n",
       "      <th>0</th>\n",
       "      <td>87</td>\n",
       "      <td>62</td>\n",
       "      <td>86</td>\n",
       "      <td>61</td>\n",
       "      <td>90</td>\n",
       "      <td>junior developer</td>\n",
       "      <td>140000</td>\n",
       "    </tr>\n",
       "    <tr>\n",
       "      <th>1</th>\n",
       "      <td>76</td>\n",
       "      <td>84</td>\n",
       "      <td>76</td>\n",
       "      <td>80</td>\n",
       "      <td>79</td>\n",
       "      <td>data scientist</td>\n",
       "      <td>780000</td>\n",
       "    </tr>\n",
       "    <tr>\n",
       "      <th>2</th>\n",
       "      <td>56</td>\n",
       "      <td>55</td>\n",
       "      <td>99</td>\n",
       "      <td>82</td>\n",
       "      <td>98</td>\n",
       "      <td>developer</td>\n",
       "      <td>210000</td>\n",
       "    </tr>\n",
       "    <tr>\n",
       "      <th>3</th>\n",
       "      <td>99</td>\n",
       "      <td>66</td>\n",
       "      <td>65</td>\n",
       "      <td>84</td>\n",
       "      <td>58</td>\n",
       "      <td>economist</td>\n",
       "      <td>420000</td>\n",
       "    </tr>\n",
       "    <tr>\n",
       "      <th>4</th>\n",
       "      <td>73</td>\n",
       "      <td>87</td>\n",
       "      <td>56</td>\n",
       "      <td>84</td>\n",
       "      <td>73</td>\n",
       "      <td>data scientist</td>\n",
       "      <td>760000</td>\n",
       "    </tr>\n",
       "    <tr>\n",
       "      <th>...</th>\n",
       "      <td>...</td>\n",
       "      <td>...</td>\n",
       "      <td>...</td>\n",
       "      <td>...</td>\n",
       "      <td>...</td>\n",
       "      <td>...</td>\n",
       "      <td>...</td>\n",
       "    </tr>\n",
       "    <tr>\n",
       "      <th>8995</th>\n",
       "      <td>58</td>\n",
       "      <td>85</td>\n",
       "      <td>68</td>\n",
       "      <td>62</td>\n",
       "      <td>97</td>\n",
       "      <td>senior developer</td>\n",
       "      <td>590000</td>\n",
       "    </tr>\n",
       "    <tr>\n",
       "      <th>8996</th>\n",
       "      <td>92</td>\n",
       "      <td>58</td>\n",
       "      <td>99</td>\n",
       "      <td>77</td>\n",
       "      <td>81</td>\n",
       "      <td>robotics engineer</td>\n",
       "      <td>1050000</td>\n",
       "    </tr>\n",
       "    <tr>\n",
       "      <th>8997</th>\n",
       "      <td>92</td>\n",
       "      <td>54</td>\n",
       "      <td>81</td>\n",
       "      <td>63</td>\n",
       "      <td>74</td>\n",
       "      <td>developer</td>\n",
       "      <td>300000</td>\n",
       "    </tr>\n",
       "    <tr>\n",
       "      <th>8998</th>\n",
       "      <td>98</td>\n",
       "      <td>90</td>\n",
       "      <td>51</td>\n",
       "      <td>96</td>\n",
       "      <td>56</td>\n",
       "      <td>developer</td>\n",
       "      <td>420000</td>\n",
       "    </tr>\n",
       "    <tr>\n",
       "      <th>8999</th>\n",
       "      <td>82</td>\n",
       "      <td>55</td>\n",
       "      <td>82</td>\n",
       "      <td>65</td>\n",
       "      <td>88</td>\n",
       "      <td>data scientist</td>\n",
       "      <td>720000</td>\n",
       "    </tr>\n",
       "  </tbody>\n",
       "</table>\n",
       "<p>9000 rows × 7 columns</p>\n",
       "</div>"
      ],
      "text/plain": [
       "      algebra  programming  data science  robotics  economics  \\\n",
       "Id                                                              \n",
       "0          87           62            86        61         90   \n",
       "1          76           84            76        80         79   \n",
       "2          56           55            99        82         98   \n",
       "3          99           66            65        84         58   \n",
       "4          73           87            56        84         73   \n",
       "...       ...          ...           ...       ...        ...   \n",
       "8995       58           85            68        62         97   \n",
       "8996       92           58            99        77         81   \n",
       "8997       92           54            81        63         74   \n",
       "8998       98           90            51        96         56   \n",
       "8999       82           55            82        65         88   \n",
       "\n",
       "                    job   salary  \n",
       "Id                                \n",
       "0      junior developer   140000  \n",
       "1        data scientist   780000  \n",
       "2             developer   210000  \n",
       "3             economist   420000  \n",
       "4        data scientist   760000  \n",
       "...                 ...      ...  \n",
       "8995   senior developer   590000  \n",
       "8996  robotics engineer  1050000  \n",
       "8997          developer   300000  \n",
       "8998          developer   420000  \n",
       "8999     data scientist   720000  \n",
       "\n",
       "[9000 rows x 7 columns]"
      ]
     },
     "execution_count": 2,
     "metadata": {},
     "output_type": "execute_result"
    }
   ],
   "source": [
    "data"
   ]
  },
  {
   "cell_type": "code",
   "execution_count": 3,
   "metadata": {},
   "outputs": [
    {
     "name": "stdout",
     "output_type": "stream",
     "text": [
      "<class 'pandas.core.frame.DataFrame'>\n",
      "Int64Index: 9000 entries, 0 to 8999\n",
      "Data columns (total 7 columns):\n",
      " #   Column        Non-Null Count  Dtype \n",
      "---  ------        --------------  ----- \n",
      " 0   algebra       9000 non-null   int64 \n",
      " 1   programming   9000 non-null   int64 \n",
      " 2   data science  9000 non-null   int64 \n",
      " 3   robotics      9000 non-null   int64 \n",
      " 4   economics     9000 non-null   int64 \n",
      " 5   job           9000 non-null   object\n",
      " 6   salary        9000 non-null   int64 \n",
      "dtypes: int64(6), object(1)\n",
      "memory usage: 562.5+ KB\n",
      "None\n",
      "robotics engineer    1543\n",
      "developer            1528\n",
      "economist            1497\n",
      "senior developer     1487\n",
      "data scientist       1478\n",
      "junior developer     1467\n",
      "Name: job, dtype: int64\n",
      "           algebra  programming  data science     robotics    economics  \\\n",
      "count  9000.000000  9000.000000   9000.000000  9000.000000  9000.000000   \n",
      "mean     74.485556    74.500111     74.349889    74.445444    74.620556   \n",
      "std      14.470835    14.489513     14.340312    14.362890    14.402834   \n",
      "min      50.000000    50.000000     50.000000    50.000000    50.000000   \n",
      "25%      62.000000    62.000000     62.000000    62.000000    62.000000   \n",
      "50%      74.000000    74.000000     75.000000    74.000000    75.000000   \n",
      "75%      87.000000    87.000000     87.000000    87.000000    87.000000   \n",
      "max      99.000000    99.000000     99.000000    99.000000    99.000000   \n",
      "\n",
      "             salary  \n",
      "count  9.000000e+03  \n",
      "mean   5.197633e+05  \n",
      "std    2.805051e+05  \n",
      "min    9.000000e+04  \n",
      "25%    3.000000e+05  \n",
      "50%    4.600000e+05  \n",
      "75%    7.600000e+05  \n",
      "max    1.350000e+06  \n"
     ]
    },
    {
     "data": {
      "image/png": "[encoded data removed]",
      "text/plain": [
       "<Figure size 720x576 with 6 Axes>"
      ]
     },
     "metadata": {
      "needs_background": "light"
     },
     "output_type": "display_data"
    }
   ],
   "source": [
    "print(data.info())\n",
    "print(data.job.value_counts())\n",
    "print(data.describe())\n",
    "data.hist(bins=50, figsize=(10, 8))\n",
    "plt.show()"
   ]
  },
  {
   "cell_type": "code",
   "execution_count": 4,
   "metadata": {},
   "outputs": [
    {
     "name": "stdout",
     "output_type": "stream",
     "text": [
      "salary          1.000000\n",
      "programming     0.153397\n",
      "algebra         0.072278\n",
      "data science    0.046113\n",
      "robotics        0.040829\n",
      "economics       0.013680\n",
      "Name: salary, dtype: float64\n"
     ]
    }
   ],
   "source": [
    "corr_matrix = data.corr()\n",
    "print(corr_matrix['salary'].sort_values(ascending=False))"
   ]
  },
  {
   "cell_type": "code",
   "execution_count": 5,
   "metadata": {},
   "outputs": [],
   "source": [
    "#feature preparation\n",
    "#normalize\n",
    "data.loc[:,'algebra':'economics'] = data.loc[:,'algebra':'economics']/100\n",
    "\n",
    "range_salary = data.salary.max() - data.salary.min()\n",
    "min_salary = data.salary.min()\n",
    "data.salary = (data.salary - data.salary.min())/(data.salary.max()-data.salary.min())\n",
    "\n",
    "#categorical\n",
    "from sklearn.preprocessing import OneHotEncoder\n",
    "from sklearn.compose import ColumnTransformer\n",
    "\n",
    "column_set = ColumnTransformer([('encoder', OneHotEncoder(),[5])], remainder='passthrough') \n",
    "onehot_data = pd.DataFrame(column_set.fit_transform(data)) \n",
    "onehot_data = onehot_data.astype(np.float64)"
   ]
  },
  {
   "cell_type": "code",
   "execution_count": 6,
   "metadata": {},
   "outputs": [],
   "source": [
    "X, y = onehot_data.iloc[:,:-1],data.iloc[:,-1]\n",
    "data_dmatrix = xgb.DMatrix(data=X,label=y)\n",
    "from sklearn.model_selection import train_test_split\n",
    "X_train, X_test, y_train, y_test = train_test_split(X, y, test_size=0.2, random_state=123)"
   ]
  },
  {
   "cell_type": "code",
   "execution_count": 7,
   "metadata": {},
   "outputs": [
    {
     "name": "stdout",
     "output_type": "stream",
     "text": [
      "0.9480477256446682\n",
      "0.9503881307035131\n",
      "RMSE: 0.049630\n"
     ]
    }
   ],
   "source": [
    "from sklearn.linear_model import LinearRegression\n",
    "lin_reg = LinearRegression()\n",
    "lin_reg.fit(X_train, y_train)\n",
    "print(lin_reg.score(X_train, y_train))\n",
    "print(lin_reg.score(X_test, y_test))\n",
    "preds = lin_reg.predict(X_test)\n",
    "rmse = np.sqrt(mean_squared_error(y_test, preds))\n",
    "print(\"RMSE: %f\" % (rmse))\n",
    "#score with linear regression: 0.9485370591354618, 0.9503881307035131"
   ]
  },
  {
   "cell_type": "code",
   "execution_count": 8,
   "metadata": {},
   "outputs": [
    {
     "name": "stdout",
     "output_type": "stream",
     "text": [
      "[16:07:41] WARNING: /Users/travis/build/dmlc/xgboost/src/objective/regression_obj.cu:170: reg:linear is now deprecated in favor of reg:squarederror.\n",
      "0.9726619058152907\n",
      "0.9690720932762082\n",
      "RMSE: 0.039186\n"
     ]
    }
   ],
   "source": [
    "xg_reg = xgb.XGBRegressor(objective ='reg:linear', colsample_bytree = 0.95, learning_rate = 0.3,\n",
    "                max_depth = 5, alpha = 1, n_estimators = 40)\n",
    "xg_reg.fit(X_train,y_train)\n",
    "\n",
    "print(xg_reg.score(X_train, y_train))\n",
    "print(xg_reg.score(X_test, y_test))\n",
    "#score with xgboosting: 0.9726619058152907, 0.9690720932762082\n",
    "preds = xg_reg.predict(X_test)\n",
    "rmse = np.sqrt(mean_squared_error(y_test, preds))\n",
    "print(\"RMSE: %f\" % (rmse))"
   ]
  },
  {
   "cell_type": "code",
   "execution_count": 9,
   "metadata": {},
   "outputs": [
    {
     "name": "stdout",
     "output_type": "stream",
     "text": [
      "[16:07:47] WARNING: /Users/travis/build/dmlc/xgboost/src/objective/regression_obj.cu:170: reg:linear is now deprecated in favor of reg:squarederror.\n",
      "[16:07:47] WARNING: /Users/travis/build/dmlc/xgboost/src/objective/regression_obj.cu:170: reg:linear is now deprecated in favor of reg:squarederror.\n",
      "[16:07:47] WARNING: /Users/travis/build/dmlc/xgboost/src/objective/regression_obj.cu:170: reg:linear is now deprecated in favor of reg:squarederror.\n",
      "[16:07:47] WARNING: /Users/travis/build/dmlc/xgboost/src/objective/regression_obj.cu:170: reg:linear is now deprecated in favor of reg:squarederror.\n",
      "49    0.040783\n",
      "Name: test-rmse-mean, dtype: float64\n"
     ]
    }
   ],
   "source": [
    "params = params = {\"objective\":\"reg:linear\",'colsample_bytree': 0.95,'learning_rate': 0.3,\n",
    "                'max_depth': 5, 'alpha': 1}\n",
    "cv_results = xgb.cv(dtrain=data_dmatrix, params=params, nfold=4,\n",
    "                    num_boost_round=50,early_stopping_rounds=10,metrics=\"rmse\", as_pandas=True, seed=123)\n",
    "cv_results.head()\n",
    "print((cv_results[\"test-rmse-mean\"]).tail(1))\n",
    "#k-means hasn't shown significant decrease in rmse"
   ]
  },
  {
   "cell_type": "code",
   "execution_count": null,
   "metadata": {},
   "outputs": [],
   "source": [
    "'''\n",
    "means = [data[data['job'] == i]['salary'].mean() for i in data.job.unique()]\n",
    "stds = [data[data['job'] == i]['salary'].std() for i in data.job.unique()]\n",
    "print(stds)\n",
    "bar_data = means\n",
    "labels = list(data.job.unique())\n",
    "plt.xticks(range(len(bar_data)), labels)\n",
    "plt.bar(range(len(bar_data)), bar_data) \n",
    "plt.show()\n",
    "'''"
   ]
  },
  {
   "cell_type": "code",
   "execution_count": null,
   "metadata": {},
   "outputs": [],
   "source": [
    "'''data[\"ds_per_economics\"] = data[\"data science\"]/data[\"economics\"]\n",
    "data[\"prog_per_alg\"] = data[\"programming\"]/data[\"algebra\"]\n",
    "data[\"prog_per_econ\"] = data[\"programming\"]/data[\"economics\"]\n",
    "'''\n",
    "#new features didn't increase performance"
   ]
  },
  {
   "cell_type": "code",
   "execution_count": null,
   "metadata": {},
   "outputs": [],
   "source": [
    "'''\n",
    "onehot_data['salary_cat'] = pd.cut(onehot_data[15], bins=[-0.1, 0.15, 0.4, 0.7, 1.1], labels=[1, 2, 3, 4])\n",
    "onehot_data['salary_cat'].hist()\n",
    "from sklearn.model_selection import StratifiedShuffleSplit\n",
    "split = StratifiedShuffleSplit(n_splits=1, test_size=0.2, random_state=42)\n",
    "for train_index, test_index in split.split(onehot_data, onehot_data[\"salary_cat\"]):\n",
    "    strat_train_set = onehot_data.loc[train_index]\n",
    "    strat_test_set = onehot_data.loc[test_index]\n",
    "    \n",
    "for set_ in (strat_train_set, strat_test_set):\n",
    "    set_.drop('salary_cat', axis=1, inplace=True)'''\n",
    "#stratified shuffle didn't provide increase in performance"
   ]
  }
 ],
 "metadata": {
  "kernelspec": {
   "display_name": "Python 3",
   "language": "python",
   "name": "python3"
  },
  "language_info": {
   "codemirror_mode": {
    "name": "ipython",
    "version": 3
   },
   "file_extension": ".py",
   "mimetype": "text/x-python",
   "name": "python",
   "nbconvert_exporter": "python",
   "pygments_lexer": "ipython3",
   "version": "3.8.3"
  }
 },
 "nbformat": 4,
 "nbformat_minor": 4
}
