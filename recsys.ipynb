{
  "cells": [
    {
      "cell_type": "code",
      "execution_count": 2,
      "metadata": {
        "colab": {
          "base_uri": "https://localhost:8080/"
        },
        "id": "3B1GaQkMN17F",
        "outputId": "8fc78601-8bb0-4804-af1f-353a7773ac93"
      },
      "outputs": [
        {
          "name": "stdout",
          "output_type": "stream",
          "text": [
            "Mounted at /content/gdrive\n",
            "/content/gdrive/MyDrive/wb_competition\n"
          ]
        }
      ],
      "source": [
        "from google.colab import drive\n",
        "import os\n",
        "\n",
        "drive.mount('/content/gdrive')\n",
        "%cd gdrive/MyDrive/wb_competition/"
      ]
    },
    {
      "cell_type": "markdown",
      "metadata": {
        "id": "e9e2M3BmNt7f"
      },
      "source": [
        "## Metrics"
      ]
    },
    {
      "cell_type": "code",
      "execution_count": 29,
      "metadata": {
        "id": "2lRSsc9-Nt7f"
      },
      "outputs": [],
      "source": [
        "import numpy as np\n",
        "\n",
        "def apk(actual, predicted, k=10):\n",
        "    \"\"\"\n",
        "    Computes the average precision at k.\n",
        "    This function computes the average prescision at k between two lists of\n",
        "    items.\n",
        "    Parameters\n",
        "    ----------\n",
        "    actual : list\n",
        "             A list of elements that are to be predicted (order doesn't matter)\n",
        "    predicted : list\n",
        "                A list of predicted elements (order does matter)\n",
        "    k : int, optional\n",
        "        The maximum number of predicted elements\n",
        "    Returns\n",
        "    -------\n",
        "    score : double\n",
        "            The average precision at k over the input lists\n",
        "    \"\"\"\n",
        "    if len(predicted)>k:\n",
        "        predicted = predicted[:k]\n",
        "\n",
        "    score = 0.0\n",
        "    num_hits = 0.0\n",
        "\n",
        "    for i,p in enumerate(predicted):\n",
        "        if p in actual and p not in predicted[:i]:\n",
        "            num_hits += 1.0\n",
        "            score += num_hits / (i+1.0)\n",
        "\n",
        "    if not actual:\n",
        "        return 0.0\n",
        "\n",
        "    return score / min(len(actual), k)\n",
        "\n",
        "\n",
        "def mapk(actual, predicted, k=10):\n",
        "    \"\"\"\n",
        "    Computes the mean average precision at k.\n",
        "    This function computes the mean average prescision at k between two lists\n",
        "    of lists of items.\n",
        "    Parameters\n",
        "    ----------\n",
        "    actual : list\n",
        "             A list of lists of elements that are to be predicted \n",
        "             (order doesn't matter in the lists)\n",
        "    predicted : list\n",
        "                A list of lists of predicted elements\n",
        "                (order matters in the lists)\n",
        "    k : int, optional\n",
        "        The maximum number of predicted elements\n",
        "    Returns\n",
        "    -------\n",
        "    score : double\n",
        "            The mean average precision at k over the input lists\n",
        "    \"\"\"\n",
        "    return np.mean([apk(a,p,k) for a,p in zip(actual, predicted)])"
      ]
    },
    {
      "cell_type": "code",
      "execution_count": 20,
      "metadata": {
        "colab": {
          "base_uri": "https://localhost:8080/"
        },
        "id": "HrihH3bgiSUr",
        "outputId": "937a91cb-b3e1-44e5-84b5-a5e1944ba87e"
      },
      "outputs": [
        {
          "name": "stdout",
          "output_type": "stream",
          "text": [
            "Collecting implicit==0.5.1\n",
            "  Downloading implicit-0.5.1.tar.gz (71 kB)\n",
            "\u001b[?25l\r\u001b[K     |████▋                           | 10 kB 33.9 MB/s eta 0:00:01\r\u001b[K     |█████████▏                      | 20 kB 39.8 MB/s eta 0:00:01\r\u001b[K     |█████████████▊                  | 30 kB 42.9 MB/s eta 0:00:01\r\u001b[K     |██████████████████▎             | 40 kB 27.0 MB/s eta 0:00:01\r\u001b[K     |███████████████████████         | 51 kB 11.4 MB/s eta 0:00:01\r\u001b[K     |███████████████████████████▌    | 61 kB 10.6 MB/s eta 0:00:01\r\u001b[K     |████████████████████████████████| 71 kB 6.4 MB/s \n",
            "\u001b[?25h  Installing build dependencies ... \u001b[?25l\u001b[?25hdone\n",
            "  Getting requirements to build wheel ... \u001b[?25l\u001b[?25hdone\n",
            "  Installing backend dependencies ... \u001b[?25l\u001b[?25hdone\n",
            "    Preparing wheel metadata ... \u001b[?25l\u001b[?25hdone\n",
            "Requirement already satisfied: scipy>=0.16 in /usr/local/lib/python3.7/dist-packages (from implicit==0.5.1) (1.4.1)\n",
            "Requirement already satisfied: tqdm>=4.27 in /usr/local/lib/python3.7/dist-packages (from implicit==0.5.1) (4.62.3)\n",
            "Requirement already satisfied: numpy in /usr/local/lib/python3.7/dist-packages (from implicit==0.5.1) (1.19.5)\n",
            "Building wheels for collected packages: implicit\n",
            "  Building wheel for implicit (PEP 517) ... \u001b[?25l\u001b[?25hdone\n",
            "  Created wheel for implicit: filename=implicit-0.5.1-cp37-cp37m-linux_x86_64.whl size=868482 sha256=7246563ad5e997b94e2d09b8987a857bce42e6696cd012a0f0b7b1305cfd5ee6\n",
            "  Stored in directory: /root/.cache/pip/wheels/3a/59/b4/2ecd7e3473261c2d169df3d0c42fbd64ce69a94065131429ff\n",
            "Successfully built implicit\n",
            "Installing collected packages: implicit\n",
            "Successfully installed implicit-0.5.1\n"
          ]
        }
      ],
      "source": [
        "os.environ['OPENBLAS_NUM_THREADS'] ='1'\n",
        "!pip install implicit==0.5.1"
      ]
    },
    {
      "cell_type": "code",
      "execution_count": 23,
      "metadata": {
        "_cell_guid": "b1076dfc-b9ad-4769-8c92-a6c4dae69d19",
        "_uuid": "8f2839f25d086af736a60e9eeb907d3b93b6e0e5",
        "execution": {
          "iopub.execute_input": "2022-01-23T08:33:54.342178Z",
          "iopub.status.busy": "2022-01-23T08:33:54.341796Z",
          "iopub.status.idle": "2022-01-23T08:33:54.526299Z",
          "shell.execute_reply": "2022-01-23T08:33:54.525490Z",
          "shell.execute_reply.started": "2022-01-23T08:33:54.342080Z"
        },
        "id": "WtNCI1lMNt65",
        "trusted": true
      },
      "outputs": [],
      "source": [
        "import json\n",
        "from tqdm.notebook import tqdm\n",
        "import numpy as np\n",
        "import pandas as pd\n",
        "from scipy.sparse import csr_matrix\n",
        "\n",
        "from implicit.nearest_neighbours import bm25_weight\n",
        "from implicit.als import AlternatingLeastSquares\n",
        "\n",
        "# DIR = '/kaggle/input'"
      ]
    },
    {
      "cell_type": "code",
      "execution_count": 4,
      "metadata": {
        "colab": {
          "base_uri": "https://localhost:8080/"
        },
        "id": "ipsld3iRuVWo",
        "outputId": "4d311d97-f049-416a-9848-f43084227b41"
      },
      "outputs": [
        {
          "name": "stdout",
          "output_type": "stream",
          "text": [
            "data/test.csv\n",
            "data/train.csv\n"
          ]
        }
      ],
      "source": [
        "def split_str(row):\n",
        "    return row.split()\n",
        "\n",
        "\n",
        "def get_ids_dict(data_train, data_test):\n",
        "    features_df = list(data_train['Data'].apply(split_str).explode().unique())\n",
        "    targets_df = list(data_train['Target'].apply(split_str).explode().unique())\n",
        "    test_voc_df = list(data_test['Data'].apply(split_str).explode().unique())\n",
        "    train_vocab = set(\n",
        "        features_df\n",
        "        + targets_df\n",
        "        + test_voc_df\n",
        "    )\n",
        "    num_to_id = dict(enumerate(train_vocab))\n",
        "    id_to_num = dict(zip(num_to_id.values(), num_to_id.keys()))\n",
        "    return num_to_id, id_to_num\n",
        "\n",
        "\n",
        "DIR = 'data'\n",
        "\n",
        "\n",
        "for dirname, _, filenames in os.walk(DIR):\n",
        "    for filename in filenames:\n",
        "        print(os.path.join(dirname, filename))"
      ]
    },
    {
      "cell_type": "code",
      "execution_count": 11,
      "metadata": {
        "execution": {
          "iopub.execute_input": "2022-01-23T08:33:57.935767Z",
          "iopub.status.busy": "2022-01-23T08:33:57.935479Z",
          "iopub.status.idle": "2022-01-23T08:33:58.678771Z",
          "shell.execute_reply": "2022-01-23T08:33:58.677871Z",
          "shell.execute_reply.started": "2022-01-23T08:33:57.935735Z"
        },
        "id": "6MqK6ZNKNt6_",
        "trusted": true
      },
      "outputs": [],
      "source": [
        "data_train = pd.read_csv(os.path.join(dirname, 'train.csv'), index_col=0)\n",
        "data_test = pd.read_csv(os.path.join(dirname, 'test.csv'), index_col=0)\n"
      ]
    },
    {
      "cell_type": "code",
      "execution_count": 15,
      "metadata": {
        "id": "Kgpc-2_lGTOA"
      },
      "outputs": [],
      "source": [
        "num_to_id, id_to_num = get_ids_dict(data_train, data_test)\n",
        "\n",
        "user_c = {id:i for i, id in enumerate(list(data_train.index.unique()))}\n",
        "data_train.index = data_train.index.map(user_c)\n",
        "user_c_test = {id:i for i, id in enumerate(list(data_test.index.unique()))}\n",
        "data_test.index = data_test.index.map(user_c_test)"
      ]
    },
    {
      "cell_type": "code",
      "execution_count": 17,
      "metadata": {
        "id": "cWtpqxprjnac"
      },
      "outputs": [],
      "source": [
        "y = data_train['Target'].apply(split_str).explode()\n",
        "y = y.map(id_to_num)\n",
        "y = y.reset_index(level=0)\n",
        "\n",
        "data_train = data_train['Data'].apply(split_str).explode()\n",
        "data_train = data_train.map(id_to_num)\n",
        "data_train = data_train.reset_index(level=0)\n",
        "data_train['Value'] = 1\n",
        "\n",
        "data_test = data_test['Data'].apply(split_str).explode()\n",
        "data_test = data_test.map(id_to_num)\n",
        "data_test = data_test.reset_index(level=0)\n",
        "data_test['Value'] = 1"
      ]
    },
    {
      "cell_type": "code",
      "execution_count": 24,
      "metadata": {
        "id": "jrYdf3t_Pnj3"
      },
      "outputs": [],
      "source": [
        "def create_user_item_matrix(intersect_df, len_items, len_user=200000):\n",
        "    row = intersect_df['Id']\n",
        "    col = intersect_df['Data']\n",
        "    sparse_matrix = csr_matrix(\n",
        "        (intersect_df['Value'].astype(np.float16), (row, col)), \n",
        "        shape=(len_user, len_items), \n",
        "        dtype=np.float16)\n",
        "    return sparse_matrix\n",
        "\n",
        "train_matrix = create_user_item_matrix(data_train, len(list(id_to_num.values())))\n",
        "test_matrix = create_user_item_matrix(data_test, len(list(id_to_num.values())))"
      ]
    },
    {
      "cell_type": "markdown",
      "metadata": {
        "id": "is3CPO4zEm62"
      },
      "source": [
        "# Implicit"
      ]
    },
    {
      "cell_type": "code",
      "execution_count": 25,
      "metadata": {
        "id": "WA9w8Cvv6Q_C"
      },
      "outputs": [],
      "source": [
        "train_matrix = bm25_weight(train_matrix, K1=100, B=0.8)\n",
        "train_matrix = train_matrix.tocsr()"
      ]
    },
    {
      "cell_type": "markdown",
      "metadata": {
        "id": "g4Rj0UqSVqJV"
      },
      "source": [
        "## ALS"
      ]
    },
    {
      "cell_type": "code",
      "execution_count": 26,
      "metadata": {
        "colab": {
          "base_uri": "https://localhost:8080/",
          "height": 49,
          "referenced_widgets": [
            "37fbd8dc778c472b839792c750c66d13",
            "823fc12771cc4b039ee513c252e0dba6",
            "c6da35e5bccc4bb59ed766c6165226b1",
            "528325e2aab043b5bf9d3351a49d31cd",
            "676ea18548684d37a20fda94f755750d",
            "75303dfb361047c69cef205c298154d1",
            "40b565f85acd4bf1bef17e052318973a",
            "161434d582d843beb317ccff260678fb",
            "285afd16d70a47ad913874eaed44c42b",
            "e79aa6dc1b4c45c097e22e4020af83c7",
            "c09382c6c447476cbbc7889caac4c1e0"
          ]
        },
        "id": "KcNu0kGFlqKh",
        "outputId": "cb763b21-26b7-4f49-fdfe-f32c463f36b2"
      },
      "outputs": [
        {
          "data": {
            "application/vnd.jupyter.widget-view+json": {
              "model_id": "37fbd8dc778c472b839792c750c66d13",
              "version_major": 2,
              "version_minor": 0
            },
            "text/plain": [
              "  0%|          | 0/15 [00:00<?, ?it/s]"
            ]
          },
          "metadata": {},
          "output_type": "display_data"
        }
      ],
      "source": [
        "model = AlternatingLeastSquares(factors=96, regularization=0.05)\n",
        "model.fit(train_matrix)"
      ]
    },
    {
      "cell_type": "code",
      "execution_count": 132,
      "metadata": {
        "colab": {
          "base_uri": "https://localhost:8080/"
        },
        "id": "Bn9p-pTY6N5F",
        "outputId": "9f48880e-a716-4e49-8042-fc6c034b296e"
      },
      "outputs": [
        {
          "name": "stdout",
          "output_type": "stream",
          "text": [
            "151191 0.085972846\n",
            "43095 0.05312638\n",
            "392598 0.047015306\n",
            "556172 0.04327568\n",
            "546946 0.043003827\n",
            "903489 0.04284439\n",
            "989678 0.04257977\n",
            "631128 0.038731944\n",
            "172486 0.038197756\n",
            "613039 0.037745982\n"
          ]
        }
      ],
      "source": [
        "userid = 0\n",
        "ids, scores = model.recommend(userid, train_matrix[userid], N=10, filter_already_liked_items=True, recalculate_user=True)\n",
        "for i, id in enumerate(ids):\n",
        "    print(id, scores[i])"
      ]
    },
    {
      "cell_type": "code",
      "execution_count": 153,
      "metadata": {
        "colab": {
          "base_uri": "https://localhost:8080/"
        },
        "id": "opXrVnDO7aZj",
        "outputId": "e68e982f-52d3-4be2-c438-d1097a9d89fe"
      },
      "outputs": [
        {
          "data": {
            "text/plain": [
              "[418352, 23289, 1082643, 753128, 1040991, 959350]"
            ]
          },
          "execution_count": 153,
          "metadata": {},
          "output_type": "execute_result"
        }
      ],
      "source": [
        "id = list(user_c.keys())[0]\n",
        "list(y.loc[y['Id'] == id, 'Target'])"
      ]
    },
    {
      "cell_type": "code",
      "execution_count": 27,
      "metadata": {
        "id": "szQt7A3J-uql"
      },
      "outputs": [],
      "source": [
        "userids = np.arange(200000)\n",
        "ids, scores = model.recommend(userids, train_matrix[userids], N=10, filter_already_liked_items=True)\n",
        "ids = ids.tolist()\n",
        "y_all = y.loc[y['Id'].isin(userids)].groupby('Id')['Target'].apply(list).tolist()"
      ]
    },
    {
      "cell_type": "code",
      "execution_count": 30,
      "metadata": {
        "colab": {
          "base_uri": "https://localhost:8080/"
        },
        "id": "JO02uklE9tVu",
        "outputId": "9bc1be55-21a2-4377-eaea-b4f3d8fdf9e7"
      },
      "outputs": [
        {
          "data": {
            "text/plain": [
              "0.12294867071365582"
            ]
          },
          "execution_count": 30,
          "metadata": {},
          "output_type": "execute_result"
        }
      ],
      "source": [
        "mapk(y_all, ids)"
      ]
    },
    {
      "cell_type": "code",
      "execution_count": 34,
      "metadata": {
        "id": "c0j_YeFsQ5ua"
      },
      "outputs": [],
      "source": [
        "test_matrix = bm25_weight(train_matrix, K1=100, B=0.8)\n",
        "test_matrix = test_matrix.tocsr()"
      ]
    },
    {
      "cell_type": "code",
      "execution_count": 35,
      "metadata": {
        "id": "gsTXnYpRP5Do"
      },
      "outputs": [],
      "source": [
        "userids = np.arange(200000)\n",
        "ids, scores = model.recommend(userids, test_matrix[userids], N=10, filter_already_liked_items=True)"
      ]
    },
    {
      "cell_type": "markdown",
      "metadata": {
        "id": "2OUhzbA3Vvd4"
      },
      "source": [
        "## LMF"
      ]
    },
    {
      "cell_type": "code",
      "execution_count": 43,
      "metadata": {
        "id": "j43kmSyfVl1e"
      },
      "outputs": [],
      "source": [
        "train_matrix = train_matrix.astype(np.float16)"
      ]
    },
    {
      "cell_type": "code",
      "execution_count": 44,
      "metadata": {
        "colab": {
          "base_uri": "https://localhost:8080/",
          "height": 49,
          "referenced_widgets": [
            "3bafd71c4d3c4f85b98c8d80ac4f7659",
            "bb843fc1de824b15b4c15bfdcc0e1a42",
            "4b508e3e62a6498c917becc20c0d6f0c",
            "553458c243484eff858d2ecd6e7a5975",
            "d88a2933def1421dabcaf4eea06db2a2",
            "ef15ef13cc204495810105ec59896206",
            "8ba704e9bf024f8abb093d51f547ffc9",
            "239bd8eb9d2944b0b143875aa8587c55",
            "fd5545a1ebe74633be682326eedd2c5c",
            "a33a6a448de046d690310faec59fe2be",
            "e1b37617d4864ee1b71760fff97ca3dd"
          ]
        },
        "id": "YL2PWW5bUoMw",
        "outputId": "6e2eefa5-85be-4895-84a8-c4ddf33ea237"
      },
      "outputs": [
        {
          "data": {
            "application/vnd.jupyter.widget-view+json": {
              "model_id": "3bafd71c4d3c4f85b98c8d80ac4f7659",
              "version_major": 2,
              "version_minor": 0
            },
            "text/plain": [
              "  0%|          | 0/30 [00:00<?, ?it/s]"
            ]
          },
          "metadata": {},
          "output_type": "display_data"
        }
      ],
      "source": [
        "from implicit.lmf import LogisticMatrixFactorization\n",
        "\n",
        "model_lmf = LogisticMatrixFactorization(factors=64, regularization=0.5)\n",
        "model_lmf.fit(train_matrix)"
      ]
    },
    {
      "cell_type": "code",
      "execution_count": null,
      "metadata": {
        "id": "sUqhbDnOXpRR"
      },
      "outputs": [],
      "source": [
        "userids = np.arange(200000)\n",
        "ids, scores = model.recommend(userids, train_matrix[userids], N=10, filter_already_liked_items=True)\n",
        "ids = ids.tolist()\n",
        "y_all = y.loc[y['Id'].isin(userids)].groupby('Id')['Target'].apply(list).tolist()"
      ]
    },
    {
      "cell_type": "markdown",
      "metadata": {
        "id": "uY0Qi6flWUP0"
      },
      "source": [
        "## Save results"
      ]
    },
    {
      "cell_type": "code",
      "execution_count": 38,
      "metadata": {
        "id": "xd3Oh7l3RHcN"
      },
      "outputs": [],
      "source": [
        "# ids = ids.tolist()\n",
        "ids = [' '.join([str(id) for id in row]) for row in ids]"
      ]
    },
    {
      "cell_type": "code",
      "execution_count": 39,
      "metadata": {
        "id": "IBnAwrseRD7p"
      },
      "outputs": [],
      "source": [
        "data_test = pd.read_csv(os.path.join(dirname, 'test.csv'), index_col=0)\n",
        "data_test = data_test.reset_index(level=0)\n",
        "submission = pd.DataFrame({'Id':data_test['Id'], 'Predicted':ids})\n",
        "submission.to_csv('data/' + \"submission.csv\", index=False)"
      ]
    },
    {
      "cell_type": "code",
      "execution_count": 40,
      "metadata": {
        "colab": {
          "base_uri": "https://localhost:8080/",
          "height": 424
        },
        "id": "gIirpdhkWj3J",
        "outputId": "c6e3c2a1-9b3d-4924-b9f6-90214edd580d"
      },
      "outputs": [
        {
          "data": {
            "text/html": [
              "\n",
              "  <div id=\"df-3c523e47-5ee8-4778-b8a2-cb093a388049\">\n",
              "    <div class=\"colab-df-container\">\n",
              "      <div>\n",
              "<style scoped>\n",
              "    .dataframe tbody tr th:only-of-type {\n",
              "        vertical-align: middle;\n",
              "    }\n",
              "\n",
              "    .dataframe tbody tr th {\n",
              "        vertical-align: top;\n",
              "    }\n",
              "\n",
              "    .dataframe thead th {\n",
              "        text-align: right;\n",
              "    }\n",
              "</style>\n",
              "<table border=\"1\" class=\"dataframe\">\n",
              "  <thead>\n",
              "    <tr style=\"text-align: right;\">\n",
              "      <th></th>\n",
              "      <th>Id</th>\n",
              "      <th>Predicted</th>\n",
              "    </tr>\n",
              "  </thead>\n",
              "  <tbody>\n",
              "    <tr>\n",
              "      <th>0</th>\n",
              "      <td>1</td>\n",
              "      <td>115766 583212 300602 618281 117292 1101952 611...</td>\n",
              "    </tr>\n",
              "    <tr>\n",
              "      <th>1</th>\n",
              "      <td>3</td>\n",
              "      <td>473211 182526 832195 380985 1132601 900260 998...</td>\n",
              "    </tr>\n",
              "    <tr>\n",
              "      <th>2</th>\n",
              "      <td>25</td>\n",
              "      <td>123599 396039 310984 36608 1048069 1120487 196...</td>\n",
              "    </tr>\n",
              "    <tr>\n",
              "      <th>3</th>\n",
              "      <td>28</td>\n",
              "      <td>300602 1050500 117292 1022685 583212 804127 73...</td>\n",
              "    </tr>\n",
              "    <tr>\n",
              "      <th>4</th>\n",
              "      <td>32</td>\n",
              "      <td>393166 736129 344162 973908 996043 555292 3265...</td>\n",
              "    </tr>\n",
              "    <tr>\n",
              "      <th>...</th>\n",
              "      <td>...</td>\n",
              "      <td>...</td>\n",
              "    </tr>\n",
              "    <tr>\n",
              "      <th>199995</th>\n",
              "      <td>2024291</td>\n",
              "      <td>234743 349780 1056403 1098609 907471 81954 814...</td>\n",
              "    </tr>\n",
              "    <tr>\n",
              "      <th>199996</th>\n",
              "      <td>2024294</td>\n",
              "      <td>174939 836129 903378 607095 393287 104197 9825...</td>\n",
              "    </tr>\n",
              "    <tr>\n",
              "      <th>199997</th>\n",
              "      <td>2024305</td>\n",
              "      <td>930718 736129 266636 632279 163592 82475 91560...</td>\n",
              "    </tr>\n",
              "    <tr>\n",
              "      <th>199998</th>\n",
              "      <td>2024326</td>\n",
              "      <td>172930 786151 409402 930763 29423 187489 70438...</td>\n",
              "    </tr>\n",
              "    <tr>\n",
              "      <th>199999</th>\n",
              "      <td>2024327</td>\n",
              "      <td>522735 903378 663878 748107 264389 164686 4379...</td>\n",
              "    </tr>\n",
              "  </tbody>\n",
              "</table>\n",
              "<p>200000 rows × 2 columns</p>\n",
              "</div>\n",
              "      <button class=\"colab-df-convert\" onclick=\"convertToInteractive('df-3c523e47-5ee8-4778-b8a2-cb093a388049')\"\n",
              "              title=\"Convert this dataframe to an interactive table.\"\n",
              "              style=\"display:none;\">\n",
              "        \n",
              "  <svg xmlns=\"http://www.w3.org/2000/svg\" height=\"24px\"viewBox=\"0 0 24 24\"\n",
              "       width=\"24px\">\n",
              "    <path d=\"M0 0h24v24H0V0z\" fill=\"none\"/>\n",
              "    <path d=\"M18.56 5.44l.94 2.06.94-2.06 2.06-.94-2.06-.94-.94-2.06-.94 2.06-2.06.94zm-11 1L8.5 8.5l.94-2.06 2.06-.94-2.06-.94L8.5 2.5l-.94 2.06-2.06.94zm10 10l.94 2.06.94-2.06 2.06-.94-2.06-.94-.94-2.06-.94 2.06-2.06.94z\"/><path d=\"M17.41 7.96l-1.37-1.37c-.4-.4-.92-.59-1.43-.59-.52 0-1.04.2-1.43.59L10.3 9.45l-7.72 7.72c-.78.78-.78 2.05 0 2.83L4 21.41c.39.39.9.59 1.41.59.51 0 1.02-.2 1.41-.59l7.78-7.78 2.81-2.81c.8-.78.8-2.07 0-2.86zM5.41 20L4 18.59l7.72-7.72 1.47 1.35L5.41 20z\"/>\n",
              "  </svg>\n",
              "      </button>\n",
              "      \n",
              "  <style>\n",
              "    .colab-df-container {\n",
              "      display:flex;\n",
              "      flex-wrap:wrap;\n",
              "      gap: 12px;\n",
              "    }\n",
              "\n",
              "    .colab-df-convert {\n",
              "      background-color: #E8F0FE;\n",
              "      border: none;\n",
              "      border-radius: 50%;\n",
              "      cursor: pointer;\n",
              "      display: none;\n",
              "      fill: #1967D2;\n",
              "      height: 32px;\n",
              "      padding: 0 0 0 0;\n",
              "      width: 32px;\n",
              "    }\n",
              "\n",
              "    .colab-df-convert:hover {\n",
              "      background-color: #E2EBFA;\n",
              "      box-shadow: 0px 1px 2px rgba(60, 64, 67, 0.3), 0px 1px 3px 1px rgba(60, 64, 67, 0.15);\n",
              "      fill: #174EA6;\n",
              "    }\n",
              "\n",
              "    [theme=dark] .colab-df-convert {\n",
              "      background-color: #3B4455;\n",
              "      fill: #D2E3FC;\n",
              "    }\n",
              "\n",
              "    [theme=dark] .colab-df-convert:hover {\n",
              "      background-color: #434B5C;\n",
              "      box-shadow: 0px 1px 3px 1px rgba(0, 0, 0, 0.15);\n",
              "      filter: drop-shadow(0px 1px 2px rgba(0, 0, 0, 0.3));\n",
              "      fill: #FFFFFF;\n",
              "    }\n",
              "  </style>\n",
              "\n",
              "      <script>\n",
              "        const buttonEl =\n",
              "          document.querySelector('#df-3c523e47-5ee8-4778-b8a2-cb093a388049 button.colab-df-convert');\n",
              "        buttonEl.style.display =\n",
              "          google.colab.kernel.accessAllowed ? 'block' : 'none';\n",
              "\n",
              "        async function convertToInteractive(key) {\n",
              "          const element = document.querySelector('#df-3c523e47-5ee8-4778-b8a2-cb093a388049');\n",
              "          const dataTable =\n",
              "            await google.colab.kernel.invokeFunction('convertToInteractive',\n",
              "                                                     [key], {});\n",
              "          if (!dataTable) return;\n",
              "\n",
              "          const docLinkHtml = 'Like what you see? Visit the ' +\n",
              "            '<a target=\"_blank\" href=https://colab.research.google.com/notebooks/data_table.ipynb>data table notebook</a>'\n",
              "            + ' to learn more about interactive tables.';\n",
              "          element.innerHTML = '';\n",
              "          dataTable['output_type'] = 'display_data';\n",
              "          await google.colab.output.renderOutput(dataTable, element);\n",
              "          const docLink = document.createElement('div');\n",
              "          docLink.innerHTML = docLinkHtml;\n",
              "          element.appendChild(docLink);\n",
              "        }\n",
              "      </script>\n",
              "    </div>\n",
              "  </div>\n",
              "  "
            ],
            "text/plain": [
              "             Id                                          Predicted\n",
              "0             1  115766 583212 300602 618281 117292 1101952 611...\n",
              "1             3  473211 182526 832195 380985 1132601 900260 998...\n",
              "2            25  123599 396039 310984 36608 1048069 1120487 196...\n",
              "3            28  300602 1050500 117292 1022685 583212 804127 73...\n",
              "4            32  393166 736129 344162 973908 996043 555292 3265...\n",
              "...         ...                                                ...\n",
              "199995  2024291  234743 349780 1056403 1098609 907471 81954 814...\n",
              "199996  2024294  174939 836129 903378 607095 393287 104197 9825...\n",
              "199997  2024305  930718 736129 266636 632279 163592 82475 91560...\n",
              "199998  2024326  172930 786151 409402 930763 29423 187489 70438...\n",
              "199999  2024327  522735 903378 663878 748107 264389 164686 4379...\n",
              "\n",
              "[200000 rows x 2 columns]"
            ]
          },
          "execution_count": 40,
          "metadata": {},
          "output_type": "execute_result"
        }
      ],
      "source": [
        "submission"
      ]
    },
    {
      "cell_type": "markdown",
      "metadata": {
        "id": "LrDan91hEsbg"
      },
      "source": [
        "# MXNET"
      ]
    },
    {
      "cell_type": "code",
      "execution_count": null,
      "metadata": {},
      "outputs": [],
      "source": [
        "from mxnet import gluon, init, np, npx\n",
        "from mxnet.gluon import nn\n",
        "from d2l import mxnet as d2l"
      ]
    },
    {
      "cell_type": "code",
      "execution_count": 71,
      "metadata": {
        "id": "lKbYtGNIwz8a"
      },
      "outputs": [],
      "source": [
        "batch_size = 2000\n",
        "train_iter = gluon.data.DataLoader(\n",
        "    data_train, shuffle=True, last_batch='rollover', batch_size=batch_size,\n",
        "    num_workers=d2l.get_dataloader_workers())\n",
        "test_iter = gluon.data.DataLoader(\n",
        "    data_test, shuffle=False, last_batch='rollover', batch_size=batch_size,\n",
        "    num_workers=d2l.get_dataloader_workers())"
      ]
    },
    {
      "cell_type": "code",
      "execution_count": 21,
      "metadata": {
        "id": "TxUltpX6xY9o"
      },
      "outputs": [],
      "source": [
        "class FM(nn.Block):\n",
        "    def __init__(self, field_dims, num_factors):\n",
        "        super(FM, self).__init__()\n",
        "        num_inputs = int(sum(field_dims))\n",
        "        self.embedding = nn.Embedding(num_inputs, num_factors)\n",
        "        self.fc = nn.Embedding(num_inputs, 1)\n",
        "        self.linear_layer = nn.Dense(1, use_bias=True)\n",
        "\n",
        "    def forward(self, x):\n",
        "        square_of_sum = np.sum(self.embedding(x), axis=1) ** 2\n",
        "        sum_of_square = np.sum(self.embedding(x) ** 2, axis=1)\n",
        "        x = self.linear_layer(self.fc(x).sum(1)) \\\n",
        "            + 0.5 * (square_of_sum - sum_of_square).sum(1, keepdims=True)\n",
        "        x = npx.sigmoid(x)\n",
        "        return x"
      ]
    },
    {
      "cell_type": "code",
      "execution_count": 76,
      "metadata": {
        "colab": {
          "base_uri": "https://localhost:8080/"
        },
        "id": "svF0WNeFbtcP",
        "outputId": "4b00ac04-8d1b-48ac-9a34-af082333bf38"
      },
      "outputs": [
        {
          "data": {
            "text/plain": [
              "array([0, 0, 0, ..., 0, 0, 0], dtype=int64)"
            ]
          },
          "execution_count": 76,
          "metadata": {},
          "output_type": "execute_result"
        }
      ],
      "source": [
        "np.zeros(1137138, dtype=np.int64)"
      ]
    },
    {
      "cell_type": "code",
      "execution_count": 73,
      "metadata": {
        "id": "B1jCJU5uyK50"
      },
      "outputs": [],
      "source": [
        "data_train.field_dims = 1137138"
      ]
    },
    {
      "cell_type": "code",
      "execution_count": null,
      "metadata": {
        "colab": {
          "base_uri": "https://localhost:8080/",
          "height": 357
        },
        "id": "i8UjFr6qxsn5",
        "outputId": "7be69dc6-4559-4de4-ace7-cdaa9334b82b"
      },
      "outputs": [],
      "source": [
        "devices = d2l.try_all_gpus()\n",
        "net = FM(data_train.field_dims, num_factors=50)\n",
        "net.initialize(init.Xavier(), ctx=devices)\n",
        "lr, num_epochs, optimizer = 0.02, 30, 'adam'\n",
        "trainer = gluon.Trainer(net.collect_params(), optimizer,\n",
        "                        {'learning_rate': lr})\n",
        "loss = gluon.loss.SigmoidBinaryCrossEntropyLoss()\n",
        "d2l.train_ch13(net, train_iter, test_iter, loss, trainer, num_epochs, devices)"
      ]
    }
  ],
  "metadata": {
    "accelerator": "GPU",
    "colab": {
      "collapsed_sections": [
        "LrDan91hEsbg"
      ],
      "name": "notebook277b087a5c.ipynb",
      "provenance": []
    },
    "kernelspec": {
      "display_name": "Python 3.10.8 64-bit",
      "language": "python",
      "name": "python3"
    },
    "language_info": {
      "codemirror_mode": {
        "name": "ipython",
        "version": 3
      },
      "file_extension": ".py",
      "mimetype": "text/x-python",
      "name": "python",
      "nbconvert_exporter": "python",
      "pygments_lexer": "ipython3",
      "version": "3.10.8"
    },
    "vscode": {
      "interpreter": {
        "hash": "aee8b7b246df8f9039afb4144a1f6fd8d2ca17a180786b69acc140d282b71a49"
      }
    },
    "widgets": {
      "application/vnd.jupyter.widget-state+json": {
        "161434d582d843beb317ccff260678fb": {
          "model_module": "@jupyter-widgets/controls",
          "model_module_version": "1.5.0",
          "model_name": "ProgressStyleModel",
          "state": {
            "_model_module": "@jupyter-widgets/controls",
            "_model_module_version": "1.5.0",
            "_model_name": "ProgressStyleModel",
            "_view_count": null,
            "_view_module": "@jupyter-widgets/base",
            "_view_module_version": "1.2.0",
            "_view_name": "StyleView",
            "bar_color": null,
            "description_width": ""
          }
        },
        "239bd8eb9d2944b0b143875aa8587c55": {
          "model_module": "@jupyter-widgets/controls",
          "model_module_version": "1.5.0",
          "model_name": "ProgressStyleModel",
          "state": {
            "_model_module": "@jupyter-widgets/controls",
            "_model_module_version": "1.5.0",
            "_model_name": "ProgressStyleModel",
            "_view_count": null,
            "_view_module": "@jupyter-widgets/base",
            "_view_module_version": "1.2.0",
            "_view_name": "StyleView",
            "bar_color": null,
            "description_width": ""
          }
        },
        "285afd16d70a47ad913874eaed44c42b": {
          "model_module": "@jupyter-widgets/base",
          "model_module_version": "1.2.0",
          "model_name": "LayoutModel",
          "state": {
            "_model_module": "@jupyter-widgets/base",
            "_model_module_version": "1.2.0",
            "_model_name": "LayoutModel",
            "_view_count": null,
            "_view_module": "@jupyter-widgets/base",
            "_view_module_version": "1.2.0",
            "_view_name": "LayoutView",
            "align_content": null,
            "align_items": null,
            "align_self": null,
            "border": null,
            "bottom": null,
            "display": null,
            "flex": null,
            "flex_flow": null,
            "grid_area": null,
            "grid_auto_columns": null,
            "grid_auto_flow": null,
            "grid_auto_rows": null,
            "grid_column": null,
            "grid_gap": null,
            "grid_row": null,
            "grid_template_areas": null,
            "grid_template_columns": null,
            "grid_template_rows": null,
            "height": null,
            "justify_content": null,
            "justify_items": null,
            "left": null,
            "margin": null,
            "max_height": null,
            "max_width": null,
            "min_height": null,
            "min_width": null,
            "object_fit": null,
            "object_position": null,
            "order": null,
            "overflow": null,
            "overflow_x": null,
            "overflow_y": null,
            "padding": null,
            "right": null,
            "top": null,
            "visibility": null,
            "width": null
          }
        },
        "37fbd8dc778c472b839792c750c66d13": {
          "model_module": "@jupyter-widgets/controls",
          "model_module_version": "1.5.0",
          "model_name": "HBoxModel",
          "state": {
            "_dom_classes": [],
            "_model_module": "@jupyter-widgets/controls",
            "_model_module_version": "1.5.0",
            "_model_name": "HBoxModel",
            "_view_count": null,
            "_view_module": "@jupyter-widgets/controls",
            "_view_module_version": "1.5.0",
            "_view_name": "HBoxView",
            "box_style": "",
            "children": [
              "IPY_MODEL_c6da35e5bccc4bb59ed766c6165226b1",
              "IPY_MODEL_528325e2aab043b5bf9d3351a49d31cd",
              "IPY_MODEL_676ea18548684d37a20fda94f755750d"
            ],
            "layout": "IPY_MODEL_823fc12771cc4b039ee513c252e0dba6"
          }
        },
        "3bafd71c4d3c4f85b98c8d80ac4f7659": {
          "model_module": "@jupyter-widgets/controls",
          "model_module_version": "1.5.0",
          "model_name": "HBoxModel",
          "state": {
            "_dom_classes": [],
            "_model_module": "@jupyter-widgets/controls",
            "_model_module_version": "1.5.0",
            "_model_name": "HBoxModel",
            "_view_count": null,
            "_view_module": "@jupyter-widgets/controls",
            "_view_module_version": "1.5.0",
            "_view_name": "HBoxView",
            "box_style": "",
            "children": [
              "IPY_MODEL_4b508e3e62a6498c917becc20c0d6f0c",
              "IPY_MODEL_553458c243484eff858d2ecd6e7a5975",
              "IPY_MODEL_d88a2933def1421dabcaf4eea06db2a2"
            ],
            "layout": "IPY_MODEL_bb843fc1de824b15b4c15bfdcc0e1a42"
          }
        },
        "40b565f85acd4bf1bef17e052318973a": {
          "model_module": "@jupyter-widgets/base",
          "model_module_version": "1.2.0",
          "model_name": "LayoutModel",
          "state": {
            "_model_module": "@jupyter-widgets/base",
            "_model_module_version": "1.2.0",
            "_model_name": "LayoutModel",
            "_view_count": null,
            "_view_module": "@jupyter-widgets/base",
            "_view_module_version": "1.2.0",
            "_view_name": "LayoutView",
            "align_content": null,
            "align_items": null,
            "align_self": null,
            "border": null,
            "bottom": null,
            "display": null,
            "flex": null,
            "flex_flow": null,
            "grid_area": null,
            "grid_auto_columns": null,
            "grid_auto_flow": null,
            "grid_auto_rows": null,
            "grid_column": null,
            "grid_gap": null,
            "grid_row": null,
            "grid_template_areas": null,
            "grid_template_columns": null,
            "grid_template_rows": null,
            "height": null,
            "justify_content": null,
            "justify_items": null,
            "left": null,
            "margin": null,
            "max_height": null,
            "max_width": null,
            "min_height": null,
            "min_width": null,
            "object_fit": null,
            "object_position": null,
            "order": null,
            "overflow": null,
            "overflow_x": null,
            "overflow_y": null,
            "padding": null,
            "right": null,
            "top": null,
            "visibility": null,
            "width": null
          }
        },
        "4b508e3e62a6498c917becc20c0d6f0c": {
          "model_module": "@jupyter-widgets/controls",
          "model_module_version": "1.5.0",
          "model_name": "HTMLModel",
          "state": {
            "_dom_classes": [],
            "_model_module": "@jupyter-widgets/controls",
            "_model_module_version": "1.5.0",
            "_model_name": "HTMLModel",
            "_view_count": null,
            "_view_module": "@jupyter-widgets/controls",
            "_view_module_version": "1.5.0",
            "_view_name": "HTMLView",
            "description": "",
            "description_tooltip": null,
            "layout": "IPY_MODEL_8ba704e9bf024f8abb093d51f547ffc9",
            "placeholder": "​",
            "style": "IPY_MODEL_ef15ef13cc204495810105ec59896206",
            "value": "100%"
          }
        },
        "528325e2aab043b5bf9d3351a49d31cd": {
          "model_module": "@jupyter-widgets/controls",
          "model_module_version": "1.5.0",
          "model_name": "FloatProgressModel",
          "state": {
            "_dom_classes": [],
            "_model_module": "@jupyter-widgets/controls",
            "_model_module_version": "1.5.0",
            "_model_name": "FloatProgressModel",
            "_view_count": null,
            "_view_module": "@jupyter-widgets/controls",
            "_view_module_version": "1.5.0",
            "_view_name": "ProgressView",
            "bar_style": "success",
            "description": "",
            "description_tooltip": null,
            "layout": "IPY_MODEL_285afd16d70a47ad913874eaed44c42b",
            "max": 15,
            "min": 0,
            "orientation": "horizontal",
            "style": "IPY_MODEL_161434d582d843beb317ccff260678fb",
            "value": 15
          }
        },
        "553458c243484eff858d2ecd6e7a5975": {
          "model_module": "@jupyter-widgets/controls",
          "model_module_version": "1.5.0",
          "model_name": "FloatProgressModel",
          "state": {
            "_dom_classes": [],
            "_model_module": "@jupyter-widgets/controls",
            "_model_module_version": "1.5.0",
            "_model_name": "FloatProgressModel",
            "_view_count": null,
            "_view_module": "@jupyter-widgets/controls",
            "_view_module_version": "1.5.0",
            "_view_name": "ProgressView",
            "bar_style": "success",
            "description": "",
            "description_tooltip": null,
            "layout": "IPY_MODEL_fd5545a1ebe74633be682326eedd2c5c",
            "max": 30,
            "min": 0,
            "orientation": "horizontal",
            "style": "IPY_MODEL_239bd8eb9d2944b0b143875aa8587c55",
            "value": 30
          }
        },
        "676ea18548684d37a20fda94f755750d": {
          "model_module": "@jupyter-widgets/controls",
          "model_module_version": "1.5.0",
          "model_name": "HTMLModel",
          "state": {
            "_dom_classes": [],
            "_model_module": "@jupyter-widgets/controls",
            "_model_module_version": "1.5.0",
            "_model_name": "HTMLModel",
            "_view_count": null,
            "_view_module": "@jupyter-widgets/controls",
            "_view_module_version": "1.5.0",
            "_view_name": "HTMLView",
            "description": "",
            "description_tooltip": null,
            "layout": "IPY_MODEL_c09382c6c447476cbbc7889caac4c1e0",
            "placeholder": "​",
            "style": "IPY_MODEL_e79aa6dc1b4c45c097e22e4020af83c7",
            "value": " 15/15 [01:13&lt;00:00,  4.61s/it]"
          }
        },
        "75303dfb361047c69cef205c298154d1": {
          "model_module": "@jupyter-widgets/controls",
          "model_module_version": "1.5.0",
          "model_name": "DescriptionStyleModel",
          "state": {
            "_model_module": "@jupyter-widgets/controls",
            "_model_module_version": "1.5.0",
            "_model_name": "DescriptionStyleModel",
            "_view_count": null,
            "_view_module": "@jupyter-widgets/base",
            "_view_module_version": "1.2.0",
            "_view_name": "StyleView",
            "description_width": ""
          }
        },
        "823fc12771cc4b039ee513c252e0dba6": {
          "model_module": "@jupyter-widgets/base",
          "model_module_version": "1.2.0",
          "model_name": "LayoutModel",
          "state": {
            "_model_module": "@jupyter-widgets/base",
            "_model_module_version": "1.2.0",
            "_model_name": "LayoutModel",
            "_view_count": null,
            "_view_module": "@jupyter-widgets/base",
            "_view_module_version": "1.2.0",
            "_view_name": "LayoutView",
            "align_content": null,
            "align_items": null,
            "align_self": null,
            "border": null,
            "bottom": null,
            "display": null,
            "flex": null,
            "flex_flow": null,
            "grid_area": null,
            "grid_auto_columns": null,
            "grid_auto_flow": null,
            "grid_auto_rows": null,
            "grid_column": null,
            "grid_gap": null,
            "grid_row": null,
            "grid_template_areas": null,
            "grid_template_columns": null,
            "grid_template_rows": null,
            "height": null,
            "justify_content": null,
            "justify_items": null,
            "left": null,
            "margin": null,
            "max_height": null,
            "max_width": null,
            "min_height": null,
            "min_width": null,
            "object_fit": null,
            "object_position": null,
            "order": null,
            "overflow": null,
            "overflow_x": null,
            "overflow_y": null,
            "padding": null,
            "right": null,
            "top": null,
            "visibility": null,
            "width": null
          }
        },
        "8ba704e9bf024f8abb093d51f547ffc9": {
          "model_module": "@jupyter-widgets/base",
          "model_module_version": "1.2.0",
          "model_name": "LayoutModel",
          "state": {
            "_model_module": "@jupyter-widgets/base",
            "_model_module_version": "1.2.0",
            "_model_name": "LayoutModel",
            "_view_count": null,
            "_view_module": "@jupyter-widgets/base",
            "_view_module_version": "1.2.0",
            "_view_name": "LayoutView",
            "align_content": null,
            "align_items": null,
            "align_self": null,
            "border": null,
            "bottom": null,
            "display": null,
            "flex": null,
            "flex_flow": null,
            "grid_area": null,
            "grid_auto_columns": null,
            "grid_auto_flow": null,
            "grid_auto_rows": null,
            "grid_column": null,
            "grid_gap": null,
            "grid_row": null,
            "grid_template_areas": null,
            "grid_template_columns": null,
            "grid_template_rows": null,
            "height": null,
            "justify_content": null,
            "justify_items": null,
            "left": null,
            "margin": null,
            "max_height": null,
            "max_width": null,
            "min_height": null,
            "min_width": null,
            "object_fit": null,
            "object_position": null,
            "order": null,
            "overflow": null,
            "overflow_x": null,
            "overflow_y": null,
            "padding": null,
            "right": null,
            "top": null,
            "visibility": null,
            "width": null
          }
        },
        "a33a6a448de046d690310faec59fe2be": {
          "model_module": "@jupyter-widgets/controls",
          "model_module_version": "1.5.0",
          "model_name": "DescriptionStyleModel",
          "state": {
            "_model_module": "@jupyter-widgets/controls",
            "_model_module_version": "1.5.0",
            "_model_name": "DescriptionStyleModel",
            "_view_count": null,
            "_view_module": "@jupyter-widgets/base",
            "_view_module_version": "1.2.0",
            "_view_name": "StyleView",
            "description_width": ""
          }
        },
        "bb843fc1de824b15b4c15bfdcc0e1a42": {
          "model_module": "@jupyter-widgets/base",
          "model_module_version": "1.2.0",
          "model_name": "LayoutModel",
          "state": {
            "_model_module": "@jupyter-widgets/base",
            "_model_module_version": "1.2.0",
            "_model_name": "LayoutModel",
            "_view_count": null,
            "_view_module": "@jupyter-widgets/base",
            "_view_module_version": "1.2.0",
            "_view_name": "LayoutView",
            "align_content": null,
            "align_items": null,
            "align_self": null,
            "border": null,
            "bottom": null,
            "display": null,
            "flex": null,
            "flex_flow": null,
            "grid_area": null,
            "grid_auto_columns": null,
            "grid_auto_flow": null,
            "grid_auto_rows": null,
            "grid_column": null,
            "grid_gap": null,
            "grid_row": null,
            "grid_template_areas": null,
            "grid_template_columns": null,
            "grid_template_rows": null,
            "height": null,
            "justify_content": null,
            "justify_items": null,
            "left": null,
            "margin": null,
            "max_height": null,
            "max_width": null,
            "min_height": null,
            "min_width": null,
            "object_fit": null,
            "object_position": null,
            "order": null,
            "overflow": null,
            "overflow_x": null,
            "overflow_y": null,
            "padding": null,
            "right": null,
            "top": null,
            "visibility": null,
            "width": null
          }
        },
        "c09382c6c447476cbbc7889caac4c1e0": {
          "model_module": "@jupyter-widgets/base",
          "model_module_version": "1.2.0",
          "model_name": "LayoutModel",
          "state": {
            "_model_module": "@jupyter-widgets/base",
            "_model_module_version": "1.2.0",
            "_model_name": "LayoutModel",
            "_view_count": null,
            "_view_module": "@jupyter-widgets/base",
            "_view_module_version": "1.2.0",
            "_view_name": "LayoutView",
            "align_content": null,
            "align_items": null,
            "align_self": null,
            "border": null,
            "bottom": null,
            "display": null,
            "flex": null,
            "flex_flow": null,
            "grid_area": null,
            "grid_auto_columns": null,
            "grid_auto_flow": null,
            "grid_auto_rows": null,
            "grid_column": null,
            "grid_gap": null,
            "grid_row": null,
            "grid_template_areas": null,
            "grid_template_columns": null,
            "grid_template_rows": null,
            "height": null,
            "justify_content": null,
            "justify_items": null,
            "left": null,
            "margin": null,
            "max_height": null,
            "max_width": null,
            "min_height": null,
            "min_width": null,
            "object_fit": null,
            "object_position": null,
            "order": null,
            "overflow": null,
            "overflow_x": null,
            "overflow_y": null,
            "padding": null,
            "right": null,
            "top": null,
            "visibility": null,
            "width": null
          }
        },
        "c6da35e5bccc4bb59ed766c6165226b1": {
          "model_module": "@jupyter-widgets/controls",
          "model_module_version": "1.5.0",
          "model_name": "HTMLModel",
          "state": {
            "_dom_classes": [],
            "_model_module": "@jupyter-widgets/controls",
            "_model_module_version": "1.5.0",
            "_model_name": "HTMLModel",
            "_view_count": null,
            "_view_module": "@jupyter-widgets/controls",
            "_view_module_version": "1.5.0",
            "_view_name": "HTMLView",
            "description": "",
            "description_tooltip": null,
            "layout": "IPY_MODEL_40b565f85acd4bf1bef17e052318973a",
            "placeholder": "​",
            "style": "IPY_MODEL_75303dfb361047c69cef205c298154d1",
            "value": "100%"
          }
        },
        "d88a2933def1421dabcaf4eea06db2a2": {
          "model_module": "@jupyter-widgets/controls",
          "model_module_version": "1.5.0",
          "model_name": "HTMLModel",
          "state": {
            "_dom_classes": [],
            "_model_module": "@jupyter-widgets/controls",
            "_model_module_version": "1.5.0",
            "_model_name": "HTMLModel",
            "_view_count": null,
            "_view_module": "@jupyter-widgets/controls",
            "_view_module_version": "1.5.0",
            "_view_name": "HTMLView",
            "description": "",
            "description_tooltip": null,
            "layout": "IPY_MODEL_e1b37617d4864ee1b71760fff97ca3dd",
            "placeholder": "​",
            "style": "IPY_MODEL_a33a6a448de046d690310faec59fe2be",
            "value": " 30/30 [03:15&lt;00:00,  6.32s/it]"
          }
        },
        "e1b37617d4864ee1b71760fff97ca3dd": {
          "model_module": "@jupyter-widgets/base",
          "model_module_version": "1.2.0",
          "model_name": "LayoutModel",
          "state": {
            "_model_module": "@jupyter-widgets/base",
            "_model_module_version": "1.2.0",
            "_model_name": "LayoutModel",
            "_view_count": null,
            "_view_module": "@jupyter-widgets/base",
            "_view_module_version": "1.2.0",
            "_view_name": "LayoutView",
            "align_content": null,
            "align_items": null,
            "align_self": null,
            "border": null,
            "bottom": null,
            "display": null,
            "flex": null,
            "flex_flow": null,
            "grid_area": null,
            "grid_auto_columns": null,
            "grid_auto_flow": null,
            "grid_auto_rows": null,
            "grid_column": null,
            "grid_gap": null,
            "grid_row": null,
            "grid_template_areas": null,
            "grid_template_columns": null,
            "grid_template_rows": null,
            "height": null,
            "justify_content": null,
            "justify_items": null,
            "left": null,
            "margin": null,
            "max_height": null,
            "max_width": null,
            "min_height": null,
            "min_width": null,
            "object_fit": null,
            "object_position": null,
            "order": null,
            "overflow": null,
            "overflow_x": null,
            "overflow_y": null,
            "padding": null,
            "right": null,
            "top": null,
            "visibility": null,
            "width": null
          }
        },
        "e79aa6dc1b4c45c097e22e4020af83c7": {
          "model_module": "@jupyter-widgets/controls",
          "model_module_version": "1.5.0",
          "model_name": "DescriptionStyleModel",
          "state": {
            "_model_module": "@jupyter-widgets/controls",
            "_model_module_version": "1.5.0",
            "_model_name": "DescriptionStyleModel",
            "_view_count": null,
            "_view_module": "@jupyter-widgets/base",
            "_view_module_version": "1.2.0",
            "_view_name": "StyleView",
            "description_width": ""
          }
        },
        "ef15ef13cc204495810105ec59896206": {
          "model_module": "@jupyter-widgets/controls",
          "model_module_version": "1.5.0",
          "model_name": "DescriptionStyleModel",
          "state": {
            "_model_module": "@jupyter-widgets/controls",
            "_model_module_version": "1.5.0",
            "_model_name": "DescriptionStyleModel",
            "_view_count": null,
            "_view_module": "@jupyter-widgets/base",
            "_view_module_version": "1.2.0",
            "_view_name": "StyleView",
            "description_width": ""
          }
        },
        "fd5545a1ebe74633be682326eedd2c5c": {
          "model_module": "@jupyter-widgets/base",
          "model_module_version": "1.2.0",
          "model_name": "LayoutModel",
          "state": {
            "_model_module": "@jupyter-widgets/base",
            "_model_module_version": "1.2.0",
            "_model_name": "LayoutModel",
            "_view_count": null,
            "_view_module": "@jupyter-widgets/base",
            "_view_module_version": "1.2.0",
            "_view_name": "LayoutView",
            "align_content": null,
            "align_items": null,
            "align_self": null,
            "border": null,
            "bottom": null,
            "display": null,
            "flex": null,
            "flex_flow": null,
            "grid_area": null,
            "grid_auto_columns": null,
            "grid_auto_flow": null,
            "grid_auto_rows": null,
            "grid_column": null,
            "grid_gap": null,
            "grid_row": null,
            "grid_template_areas": null,
            "grid_template_columns": null,
            "grid_template_rows": null,
            "height": null,
            "justify_content": null,
            "justify_items": null,
            "left": null,
            "margin": null,
            "max_height": null,
            "max_width": null,
            "min_height": null,
            "min_width": null,
            "object_fit": null,
            "object_position": null,
            "order": null,
            "overflow": null,
            "overflow_x": null,
            "overflow_y": null,
            "padding": null,
            "right": null,
            "top": null,
            "visibility": null,
            "width": null
          }
        }
      }
    }
  },
  "nbformat": 4,
  "nbformat_minor": 0
}
